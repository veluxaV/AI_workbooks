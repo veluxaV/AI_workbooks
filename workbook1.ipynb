{
 "cells": [
  {
   "cell_type": "markdown",
   "id": "ee45413a",
   "metadata": {},
   "source": [
    "1. Типы данных"
   ]
  },
  {
   "cell_type": "markdown",
   "id": "3f9d07e4",
   "metadata": {},
   "source": [
    "Все типы данных в Python относятся к одной из 2-х категорий:\n",
    "изменяемые (mutable) и неизменяемые (immutable).\n",
    "Неизменяемые объекты:\n",
    "- числовые данные (int, float),\n",
    "- bool,\n",
    "- None,\n",
    "- символьные строки (class 'str'),\n",
    "- кортежи (tuple).\n",
    "Изменяемые объекты:\n",
    "- списки (list),\n",
    "- множества (set),\n",
    "- словари (dict)."
   ]
  },
  {
   "cell_type": "markdown",
   "id": "cd3b366e",
   "metadata": {},
   "source": [
    "Задание 1"
   ]
  },
  {
   "cell_type": "markdown",
   "id": "26dd6d48",
   "metadata": {},
   "source": [
    "Выведите на печать и определите тип переменной."
   ]
  },
  {
   "cell_type": "code",
   "execution_count": 1,
   "id": "9a92f3ff",
   "metadata": {},
   "outputs": [
    {
     "name": "stdout",
     "output_type": "stream",
     "text": [
      "True | <class 'bool'> \n",
      " {8, 1, 3, 7} | <class 'set'> \n",
      " {2, 4, 5, 'apple', 10} | <class 'set'> \n",
      " set() | <class 'set'> \n",
      " ('Антонова Антонина', 34, 'ж') | <class 'tuple'> \n",
      " type | <class 'str'> \n",
      " [1, 'title', 2, 'content'] | <class 'list'>\n"
     ]
    }
   ],
   "source": [
    "x = 5 >= 2\n",
    "A = {1, 3, 7, 8}\n",
    "B = {2, 4, 5, 10, 'apple'}\n",
    "C = A & B\n",
    "df = 'Антонова Антонина', 34, 'ж'\n",
    "z = 'type'\n",
    "D = [1, 'title', 2, 'content']\n",
    "print(x, '|', type(x),'\\n',A, '|', type(A),'\\n',B, '|', type(B),'\\n',\n",
    "      C, '|', type(C),'\\n',df, '|', type(df),'\\n',z, '|', type(z),'\\n',\n",
    "      D, '|', type(D))"
   ]
  },
  {
   "cell_type": "markdown",
   "id": "4e4d30c2",
   "metadata": {},
   "source": [
    "2. Условный оператор"
   ]
  },
  {
   "cell_type": "markdown",
   "id": "20f284b5",
   "metadata": {},
   "source": [
    "If – Условный оператор\n",
    "В коде часто приходится проверять выполнимость или\n",
    "невыполнимость каких-то условий. Синтаксис:\n",
    "if <условие1 (булевское выражение)> :\n",
    " <код, который выполнится, если условие верно>\n",
    "elif <условие2 (булевское выражение)>:\n",
    " <код, который выполнится, если условие1 было неверно, а\n",
    "условие2 верно>\n",
    "else:\n",
    " <код, который выполнится, если условие1 и условие2 были\n",
    "неверны>\n",
    "Обратите внимание, что код, который должен выполняться внутри\n",
    "каждого условия, записывается с отступом в 4 пробела от уровня if, elif и\n",
    "else: в питоне области видимости переменных обозначаются отступами.\n",
    "То есть, отступы позволяют понять, где начинается код,\n",
    "который должен выполняться при выполнении условия в if, и где\n",
    "заканчивается."
   ]
  },
  {
   "cell_type": "markdown",
   "id": "d8690801",
   "metadata": {},
   "source": [
    "Задание 2"
   ]
  },
  {
   "cell_type": "markdown",
   "id": "1701a113",
   "metadata": {},
   "source": [
    "Напишите код. Задается х, напечатать какому из интервалов\n",
    "принадлежит: (-infinity, -5), [-5, 5] или от (5, +infinity)"
   ]
  },
  {
   "cell_type": "code",
   "execution_count": 134,
   "id": "430b37b0",
   "metadata": {},
   "outputs": [
    {
     "name": "stdout",
     "output_type": "stream",
     "text": [
      "x ∈ [-5, 5]\n"
     ]
    }
   ],
   "source": [
    "x = 0\n",
    "if x < -5:\n",
    "    print(\"x ∈ (-∞; -5)\")\n",
    "elif x > 5:\n",
    "    print(\"x ∈ (5; +∞)\")\n",
    "else: \n",
    "    print(\"x ∈ [-5, 5]\")"
   ]
  },
  {
   "cell_type": "markdown",
   "id": "135f9152",
   "metadata": {},
   "source": [
    "3. Циклы, массивы, срезы"
   ]
  },
  {
   "cell_type": "markdown",
   "id": "fce1cee2",
   "metadata": {},
   "source": [
    "Циклы - for и while\n",
    "Цикл while проверяет истинность условия, и если условие истинно, то\n",
    "выполняет инструкции цикла.\n",
    "Синтаксис:\n",
    "while условие:\n",
    " инструкции\n",
    "Инструкции, которые относятся к циклу while, располагаются на\n",
    "последующих строках и должны иметь отступ от начала ключевого слова\n",
    "while.\n",
    "Цикл for проходит по набору значений, помещает каждое значение в\n",
    "переменную с которой в цикле можно производить различные действия.\n",
    "Синтаксис:\n",
    "for переменная in набор_значений:\n",
    " инструкции\n",
    "После ключевого слова for идет название переменной, в которую\n",
    "будут помещаться значения. После оператора in указывается набор значений\n",
    "и двоеточие. Инструкции, которые относятся к циклу, располагаются на\n",
    "последующих строках и должны иметь отступ.\n",
    "При создании цикла удобно пользоваться функцией range(a, b),\n",
    "которая создает последовательность чисел от a до b-1."
   ]
  },
  {
   "cell_type": "markdown",
   "id": "4df40148",
   "metadata": {},
   "source": [
    "Задание 3.1"
   ]
  },
  {
   "cell_type": "markdown",
   "id": "703b8259",
   "metadata": {},
   "source": [
    "Выведите числа из примера на while (3.2.1) в обратном порядке."
   ]
  },
  {
   "cell_type": "code",
   "execution_count": 11,
   "id": "ddb772fe",
   "metadata": {},
   "outputs": [
    {
     "name": "stdout",
     "output_type": "stream",
     "text": [
      "10\n",
      "7\n",
      "4\n",
      "1\n"
     ]
    }
   ],
   "source": [
    "x = 10\n",
    "while x>=0:\n",
    "    print(x)\n",
    "    x-=3"
   ]
  },
  {
   "cell_type": "markdown",
   "id": "bfad4a82",
   "metadata": {},
   "source": [
    "Задание 3.2"
   ]
  },
  {
   "cell_type": "markdown",
   "id": "62ff1409",
   "metadata": {},
   "source": [
    "При решении задач машинного обучения часто в качестве объектов\n",
    "исследования выступает человек. Создайте список значимых\n",
    "характеристик (признаков), идентифицирующих человека. Выведите\n",
    "список на экран.\n"
   ]
  },
  {
   "cell_type": "code",
   "execution_count": 12,
   "id": "4cb221d3",
   "metadata": {},
   "outputs": [
    {
     "name": "stdout",
     "output_type": "stream",
     "text": [
      "Пол\n",
      "Возраст\n",
      "Рост\n",
      "Национальность\n"
     ]
    }
   ],
   "source": [
    "human = ['Пол','Возраст','Рост','Национальность']\n",
    "for human_ch in human:\n",
    "    print(human_ch)"
   ]
  },
  {
   "cell_type": "markdown",
   "id": "5d3834ce",
   "metadata": {},
   "source": [
    "Задание 3.3"
   ]
  },
  {
   "cell_type": "markdown",
   "id": "9a7661c5",
   "metadata": {},
   "source": [
    "Создать список чисел от 2 до 15 с шагом 1."
   ]
  },
  {
   "cell_type": "code",
   "execution_count": 13,
   "id": "a4bdd1d6",
   "metadata": {},
   "outputs": [
    {
     "name": "stdout",
     "output_type": "stream",
     "text": [
      "[2, 3, 4, 5, 6, 7, 8, 9, 10, 11, 12, 13, 14, 15]\n"
     ]
    }
   ],
   "source": [
    "list_int = range(2, 16, 1)\n",
    "print(list(list_int))"
   ]
  },
  {
   "cell_type": "markdown",
   "id": "b0856559",
   "metadata": {},
   "source": [
    "Задание 3.4"
   ]
  },
  {
   "cell_type": "markdown",
   "id": "0c0eb78c",
   "metadata": {},
   "source": [
    "Выведите числа из примера на for c функцией range() (3.2.4) в\n",
    "обратном порядке."
   ]
  },
  {
   "cell_type": "code",
   "execution_count": 17,
   "id": "71f05914",
   "metadata": {},
   "outputs": [
    {
     "name": "stdout",
     "output_type": "stream",
     "text": [
      "105\n",
      "80\n",
      "55\n",
      "30\n",
      "5\n"
     ]
    }
   ],
   "source": [
    "for i in range(105, 4, -25):\n",
    "    print(i)"
   ]
  },
  {
   "cell_type": "markdown",
   "id": "37e0cfa0",
   "metadata": {},
   "source": [
    "Задание 3.5"
   ]
  },
  {
   "cell_type": "markdown",
   "id": "57979c27",
   "metadata": {},
   "source": [
    "Срез. Напишите код, который все элементы массива x с четными\n",
    "индексами переставит в обратном порядке. Т.е. если x = [0, 1, 2, 3, 4,\n",
    "5, 6, 7, 8, 9], то код должен сформировать [8, 1, 6, 3, 4, 5, 2, 7, 0, 9]."
   ]
  },
  {
   "cell_type": "code",
   "execution_count": 30,
   "id": "151830d2",
   "metadata": {},
   "outputs": [
    {
     "name": "stdout",
     "output_type": "stream",
     "text": [
      "[8, 1, 6, 3, 4, 5, 2, 7, 0, 9]\n"
     ]
    }
   ],
   "source": [
    "x = [0, 1, 2, 3, 4, 5, 6, 7, 8, 9]\n",
    "x[0::2] = reversed(x[0::2])\n",
    "print(x)"
   ]
  },
  {
   "cell_type": "markdown",
   "id": "8031689f",
   "metadata": {},
   "source": [
    "4. Библиотеки"
   ]
  },
  {
   "cell_type": "markdown",
   "id": "8de853cf",
   "metadata": {},
   "source": [
    "Машинное обучение опирается на фундаментальные понятия и законы\n",
    "математики и информатики. Библиотека математических функций (math)\n",
    "применяется при решении большинства прикладных задач анализа данных.\n",
    "Также, и некоторые другие библиотеки Python содержат математические\n",
    "функции (например, NumPy). Важную роль играет библиотека matplotlib,\n",
    "которая позволяет производить визуализацию расчетов в удобной для\n",
    "восприятия человеком форме: графики, диаграммы, гистограммы.\n",
    "Подключение библиотек – синтаксис:\n",
    "import math as m\n",
    "import numpy as np\n",
    "import matplotlib.pyplot as plt\n",
    "etc…\n",
    "Библиотеки в python содержат не только функции, позволяющие решать\n",
    "различные задачи, но и некоторые популярные константы, например число\n",
    "Эйлера.\n"
   ]
  },
  {
   "cell_type": "markdown",
   "id": "8acc9186",
   "metadata": {},
   "source": [
    "Задание 4.1"
   ]
  },
  {
   "cell_type": "markdown",
   "id": "62c0440c",
   "metadata": {},
   "source": [
    "Задайте массив случайных значений из интервала(0; 1).\n",
    "Рассчитайте средние и медианные значения для массива, сравните\n",
    "результаты, какие выводы можно сделать о значениях?\n",
    "Постройте точечную диаграмму рассения полученного ряда."
   ]
  },
  {
   "cell_type": "code",
   "execution_count": 67,
   "id": "47591ca8",
   "metadata": {},
   "outputs": [
    {
     "name": "stdout",
     "output_type": "stream",
     "text": [
      "[0.8261153  0.07738723 0.00107793 0.91034885 0.29524244 0.90908613\n",
      " 0.68800723 0.90586893 0.86575793 0.71081057 0.30842057 0.83632117\n",
      " 0.33751544 0.91522249 0.41098763 0.21873337 0.35179119 0.73403959\n",
      " 0.86931293 0.25579178]\n",
      "Среднее значение  0.5713919343414542\n",
      "Медиана  0.6994088972037378\n"
     ]
    },
    {
     "data": {
      "image/png": "[encoded data removed]",
      "text/plain": [
       "<Figure size 1000x500 with 1 Axes>"
      ]
     },
     "metadata": {},
     "output_type": "display_data"
    }
   ],
   "source": [
    "import numpy as np\n",
    "import matplotlib.pyplot as plt\n",
    "\n",
    "array = np.random.sample(20)\n",
    "average = np.average(array)\n",
    "median = np.median(array)\n",
    "\n",
    "data = [0]*len(array)\n",
    "fig = plt.figure(figsize =(10,5))\n",
    "\n",
    "plt.scatter (array, data, c = \"deeppink\")\n",
    "\n",
    "print(array)\n",
    "print(\"Среднее значение \", average)\n",
    "print(\"Медиана \", median)"
   ]
  },
  {
   "cell_type": "markdown",
   "id": "79733bad",
   "metadata": {},
   "source": [
    "Задание 4.2"
   ]
  },
  {
   "cell_type": "markdown",
   "id": "1e5ce9bc",
   "metadata": {},
   "source": [
    "Дана функция\n",
    "sqrt(1+e^sqrt(1) + cos(x^2))\\(|1-sin^3(x)|)+ln|2x|\n",
    "Создать массив из 10 значений\n",
    "функции (𝑥, например, изменяется от 1 до 10). Выделить срез первой\n",
    "половины массива и построить графики для основного массива –\n",
    "линейный и для среза – точечный"
   ]
  },
  {
   "cell_type": "code",
   "execution_count": 133,
   "id": "274c44ec",
   "metadata": {
    "scrolled": false
   },
   "outputs": [
    {
     "name": "stdout",
     "output_type": "stream",
     "text": [
      "[ 1  2  3  4  5  6  7  8  9 10]\n",
      "[1 2 3 4 5]\n"
     ]
    },
    {
     "data": {
      "image/png": "[encoded data removed]",
      "text/plain": [
       "<Figure size 640x480 with 1 Axes>"
      ]
     },
     "metadata": {},
     "output_type": "display_data"
    },
    {
     "data": {
      "text/plain": [
       "<Figure size 1000x500 with 0 Axes>"
      ]
     },
     "metadata": {},
     "output_type": "display_data"
    },
    {
     "name": "stdout",
     "output_type": "stream",
     "text": [
      "[5.7989175  9.89559083 4.19457227 3.98117678 4.09272906]\n"
     ]
    },
    {
     "data": {
      "image/png": "[encoded data removed]",
      "text/plain": [
       "<Figure size 640x480 with 1 Axes>"
      ]
     },
     "metadata": {},
     "output_type": "display_data"
    }
   ],
   "source": [
    "import numpy as np\n",
    "import matplotlib.pyplot as plt\n",
    "x = np.arange(1, 11, 1)\n",
    "print(x)\n",
    "\n",
    "y = np.divide(np.sqrt(1+np.exp(np.sqrt(x))+np.cos(np.power(x, 2))),np.abs(1-np.power(np.sin(x),3)))+np.log(np.abs(2*x))\n",
    "plt.grid()\n",
    "plt.plot(x, y)\n",
    "\n",
    "# fh = array[0:5]\n",
    "fh = np.arange(1, 6)\n",
    "print(fh)\n",
    "y1 = np.divide(np.sqrt(1+np.exp(np.sqrt(fh))+np.cos(np.power(fh, 2))),np.abs(1-np.power(np.sin(fh),3)))+np.log(np.abs(2*fh))\n",
    "fig = plt.figure(figsize =(10,5))\n",
    "plt.show()\n",
    "plt.scatter (fh, y1)\n",
    "print(y1)"
   ]
  },
  {
   "cell_type": "markdown",
   "id": "b33e82b7",
   "metadata": {},
   "source": [
    "Задание 4.3"
   ]
  },
  {
   "cell_type": "markdown",
   "id": "291df7b9",
   "metadata": {},
   "source": [
    "Дана функция |cos(𝑥𝑒(cos(𝑥)+ln(𝑥+1)))| \n",
    "Построить график на интервале (0,10) с шагом 1 с заливкой площади и найти эту площадь\n",
    "под ним. Для вычисления площади воспользуйте функции trapz(),\n",
    "вычисляющей интеграл по правилу трапеции.\n",
    "Для ее корректной работы необходимо подключить следующие\n",
    "библиотеки:\n",
    "from scipy.integrate import simps\n",
    "from numpy import trapz"
   ]
  },
  {
   "cell_type": "code",
   "execution_count": 110,
   "id": "b21bc983",
   "metadata": {},
   "outputs": [
    {
     "name": "stdout",
     "output_type": "stream",
     "text": [
      "[0, 1, 2, 3, 4, 5, 6, 7, 8, 9]\n",
      "Площадь  6.260345875494747\n"
     ]
    },
    {
     "data": {
      "image/png": "[encoded data removed]",
      "text/plain": [
       "<Figure size 640x480 with 1 Axes>"
      ]
     },
     "metadata": {},
     "output_type": "display_data"
    }
   ],
   "source": [
    "from scipy.integrate import simps\n",
    "from numpy import trapz\n",
    "import numpy as np\n",
    "import matplotlib.pyplot as plt\n",
    "\n",
    "x = np.arange(0, 10)\n",
    "y = np.abs(np.cos(x*np.exp(np.cos(x)+np.log(x+1))))\n",
    "\n",
    "plt.grid()\n",
    "plt.plot(x, y, c = \"deeppink\")\n",
    "plt.fill_between(x, y, facecolor = \"lightblue\")\n",
    "\n",
    "area = trapz(y)\n",
    "print(\"Площадь \", area)"
   ]
  },
  {
   "cell_type": "markdown",
   "id": "83eca694",
   "metadata": {},
   "source": [
    "Задание 4.4"
   ]
  },
  {
   "cell_type": "markdown",
   "id": "ff5ac757",
   "metadata": {},
   "source": [
    "Откройте статистические данные по стоимости акций Apple,\n",
    "Microsoft, Google за 12 месяцев 2021 г. Постройте 3 графика на\n",
    "плоскости и оцените их динамику. Подумайте, как можно улучшить\n",
    "читаемость результатов.\n",
    "Для начальных данных допустимо использовать следующий ресурс:\n",
    "https://finance.yahoo.com"
   ]
  },
  {
   "cell_type": "code",
   "execution_count": 118,
   "id": "5680a811",
   "metadata": {},
   "outputs": [
    {
     "name": "stdout",
     "output_type": "stream",
     "text": [
      "[1, 2, 3, 4, 5, 6, 7, 8, 9, 10, 11, 12]\n"
     ]
    },
    {
     "data": {
      "text/plain": [
       "<matplotlib.legend.Legend at 0x18bfc430550>"
      ]
     },
     "execution_count": 118,
     "metadata": {},
     "output_type": "execute_result"
    },
    {
     "data": {
      "image/png": "[encoded data removed]",
      "text/plain": [
       "<Figure size 640x480 with 1 Axes>"
      ]
     },
     "metadata": {},
     "output_type": "display_data"
    }
   ],
   "source": [
    "import numpy as np\n",
    "import matplotlib.pyplot as plt\n",
    "array = list(range(1, 13))\n",
    "print(array)\n",
    "\n",
    "fig = plt.figure()\n",
    "ax = fig.add_axes([0,0,1,1])\n",
    "plt.grid()\n",
    "\n",
    "y_apple = [174.01, 164.70, 174.03, 156.71, 149.90, 136.04, 161.01, 156.64, 138.21, 155.08, 148.21, 130.28]\n",
    "plt.plot(array, y_apple, label = \"Apple\", c = \"red\")\n",
    "y_microsoft = [310.41, 296.40, 309.37, 277.71, 275.20, 256.39, 277.82, 258.87, 235.41, 234.60, 253.87, 243.08]\n",
    "plt.plot(array, y_microsoft, label = \"Microsoft\", c = \"green\")\n",
    "y_google = [137.84, 134.48, 140.01, 113.91, 114.93, 108.34, 115.53, 109.20, 97.22, 95.59, 101.40, 89.93]\n",
    "plt.plot(array, y_google, label = \"Google\", c = \"blue\")\n",
    "\n",
    "ax.legend()"
   ]
  },
  {
   "cell_type": "markdown",
   "id": "048ffaa8",
   "metadata": {},
   "source": [
    "Задание 4.5"
   ]
  },
  {
   "cell_type": "markdown",
   "id": "e58de52a",
   "metadata": {},
   "source": [
    "Создайте простейший калькулятор, включающий основные действия\n",
    "для двух переменных ′ + ′, ′ − ′, ′ ∙ ′, ′ ÷ ′, а также вычисление\n",
    "следующих функций: 𝑒^𝑥+y, sin(𝑥 + 𝑦) , cos(𝑥 + 𝑦) , 𝑥^y"
   ]
  },
  {
   "cell_type": "code",
   "execution_count": 120,
   "id": "d50b3de3",
   "metadata": {},
   "outputs": [
    {
     "name": "stdout",
     "output_type": "stream",
     "text": [
      "\n",
      "Введите символ операции, которую вы хотите совершить\n",
      "+ сложение\n",
      "- вычитание\n",
      "* умножение\n",
      "/ деление\n",
      "e e^x+y\n",
      "sin sin(x+y)\n",
      "cos cos(x+y)\n",
      "^ x^y\n",
      "\n",
      "Выберите операцию \n",
      "+\n",
      "Введите первый операнд 2\n",
      "Введите второй операнд 3\n",
      "Результат  5\n"
     ]
    }
   ],
   "source": [
    "import numpy as np\n",
    "import math as m\n",
    "\n",
    "operations = '''\n",
    "Введите символ операции, которую вы хотите совершить\n",
    "+ сложение\n",
    "- вычитание\n",
    "* умножение\n",
    "/ деление\n",
    "e e^x+y\n",
    "sin sin(x+y)\n",
    "cos cos(x+y)\n",
    "^ x^y\n",
    "'''\n",
    "print(operations)\n",
    "print(\"Выберите операцию \")\n",
    "operation = input()\n",
    "x = int(input('Введите первый операнд '))\n",
    "y = int(input('Введите второй операнд '))\n",
    "if operation == '+':\n",
    "    result = x+y\n",
    "elif operation == '-':\n",
    "    result = x-y\n",
    "elif operation == '/':\n",
    "    result = x/y\n",
    "elif operation == '*':\n",
    "    result = x*y\n",
    "elif operation == 'e':\n",
    "    result = np.exp(x+y)\n",
    "elif operation == 'sin':\n",
    "    result = m.sin(x+y)\n",
    "elif operation == 'cos':\n",
    "    result = m.cos(x+y)\n",
    "elif operation == '^':\n",
    "    result = x**y\n",
    "else:\n",
    "    result = 'Введите операцию верно'\n",
    "print('Результат ', result)"
   ]
  }
 ],
 "metadata": {
  "kernelspec": {
   "display_name": "Python 3 (ipykernel)",
   "language": "python",
   "name": "python3"
  },
  "language_info": {
   "codemirror_mode": {
    "name": "ipython",
    "version": 3
   },
   "file_extension": ".py",
   "mimetype": "text/x-python",
   "name": "python",
   "nbconvert_exporter": "python",
   "pygments_lexer": "ipython3",
   "version": "3.9.13"
  }
 },
 "nbformat": 4,
 "nbformat_minor": 5
}
